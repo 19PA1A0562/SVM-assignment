{
  "nbformat": 4,
  "nbformat_minor": 0,
  "metadata": {
    "colab": {
      "name": "SVM assignment",
      "provenance": [],
      "authorship_tag": "ABX9TyMQ409oHEXx7rS2D7uue0c6",
      "include_colab_link": true
    },
    "kernelspec": {
      "name": "python3",
      "display_name": "Python 3"
    }
  },
  "cells": [
    {
      "cell_type": "markdown",
      "metadata": {
        "id": "view-in-github",
        "colab_type": "text"
      },
      "source": [
        "<a href=\"https://colab.research.google.com/github/19PA1A0562/SVM-assignment/blob/master/SVM_assignment.ipynb\" target=\"_parent\"><img src=\"https://colab.research.google.com/assets/colab-badge.svg\" alt=\"Open In Colab\"/></a>"
      ]
    },
    {
      "cell_type": "code",
      "metadata": {
        "id": "EUJMu7ACGaWy",
        "colab_type": "code",
        "colab": {}
      },
      "source": [
        "import pandas as pd  # for handling data in the form of tables\n",
        "import numpy as np   # For handling matrix\n",
        "from sklearn.model_selection import train_test_split # For spliting the data into train and test\n",
        "from sklearn.svm import SVC as svc  # for using the model\n",
        "from sklearn import metrics \n",
        "from sklearn.metrics import mean_squared_error # To find error\n",
        "import matplotlib.pyplot as plt # For plotting\n",
        "from sklearn.metrics import classification_report"
      ],
      "execution_count": 0,
      "outputs": []
    },
    {
      "cell_type": "code",
      "metadata": {
        "id": "F_3GUwxON2mW",
        "colab_type": "code",
        "colab": {
          "base_uri": "https://localhost:8080/",
          "height": 255
        },
        "outputId": "075d301e-7f09-47b5-b2af-d338b56143b5"
      },
      "source": [
        "dataset=pd.read_csv(\"iris2.txt\")       # Upload the dataset\n",
        "print(dataset)"
      ],
      "execution_count": 4,
      "outputs": [
        {
          "output_type": "stream",
          "text": [
            "     sepallength  sepalwidth  petallength  petalwidth            spec\n",
            "0            5.1         3.5          1.4         0.2     Iris-setosa\n",
            "1            4.9         3.0          1.4         0.2     Iris-setosa\n",
            "2            4.7         3.2          1.3         0.2     Iris-setosa\n",
            "3            4.6         3.1          1.5         0.2     Iris-setosa\n",
            "4            5.0         3.6          1.4         0.2     Iris-setosa\n",
            "..           ...         ...          ...         ...             ...\n",
            "113          5.7         2.5          5.0         2.0  Iris-virginica\n",
            "114          5.8         2.8          5.1         2.4  Iris-virginica\n",
            "115          6.4         3.2          5.3         2.3  Iris-virginica\n",
            "116          6.5         3.0          5.5         1.8  Iris-virginica\n",
            "117          7.7         3.8          6.7         2.2  Iris-virginica\n",
            "\n",
            "[118 rows x 5 columns]\n"
          ],
          "name": "stdout"
        }
      ]
    },
    {
      "cell_type": "code",
      "metadata": {
        "id": "Oyyf-Eo3OsUb",
        "colab_type": "code",
        "colab": {
          "base_uri": "https://localhost:8080/",
          "height": 119
        },
        "outputId": "66cfc31f-ae19-4ccf-88e2-813bd7c98f71"
      },
      "source": [
        "a=dataset.isna().any()       # Check for any na's\n",
        "a"
      ],
      "execution_count": 5,
      "outputs": [
        {
          "output_type": "execute_result",
          "data": {
            "text/plain": [
              "sepallength    False\n",
              "sepalwidth     False\n",
              "petallength    False\n",
              "petalwidth     False\n",
              "spec           False\n",
              "dtype: bool"
            ]
          },
          "metadata": {
            "tags": []
          },
          "execution_count": 5
        }
      ]
    },
    {
      "cell_type": "code",
      "metadata": {
        "id": "vAtkCSKbQow5",
        "colab_type": "code",
        "colab": {}
      },
      "source": [
        "X=dataset[[\"sepallength\",\"sepalwidth\",\"sepalwidth\",\"petalwidth\"]]    # Select the independendent variables\n",
        "Y=dataset[\"spec\"]       # Select the depended variables"
      ],
      "execution_count": 0,
      "outputs": []
    },
    {
      "cell_type": "code",
      "metadata": {
        "id": "aQc2CYu5UBW1",
        "colab_type": "code",
        "colab": {
          "base_uri": "https://localhost:8080/",
          "height": 34
        },
        "outputId": "00f769d5-ac11-41db-f94b-98f531877929"
      },
      "source": [
        "# check the shape of X\n",
        "X.shape"
      ],
      "execution_count": 13,
      "outputs": [
        {
          "output_type": "execute_result",
          "data": {
            "text/plain": [
              "(118, 4)"
            ]
          },
          "metadata": {
            "tags": []
          },
          "execution_count": 13
        }
      ]
    },
    {
      "cell_type": "code",
      "metadata": {
        "id": "6adOjhIDUJs1",
        "colab_type": "code",
        "colab": {
          "base_uri": "https://localhost:8080/",
          "height": 34
        },
        "outputId": "82cf3636-56ce-41a0-ff1a-21b307797a03"
      },
      "source": [
        "# check the shape of Y\n",
        "Y.shape"
      ],
      "execution_count": 14,
      "outputs": [
        {
          "output_type": "execute_result",
          "data": {
            "text/plain": [
              "(118,)"
            ]
          },
          "metadata": {
            "tags": []
          },
          "execution_count": 14
        }
      ]
    },
    {
      "cell_type": "code",
      "metadata": {
        "id": "a_n4BWyCO4Ry",
        "colab_type": "code",
        "colab": {}
      },
      "source": [
        "# divide the data into train and test. Here we are keeping 20% of the date as Test data.\n",
        "X_train,X_test,Y_train,Y_test=train_test_split(X,Y,test_size=0.2, random_state=42)           \n"
      ],
      "execution_count": 0,
      "outputs": []
    },
    {
      "cell_type": "code",
      "metadata": {
        "id": "CJdhUPl7TKRJ",
        "colab_type": "code",
        "colab": {
          "base_uri": "https://localhost:8080/",
          "height": 85
        },
        "outputId": "d42841dc-385a-4eea-b4dd-564ab9a04805"
      },
      "source": [
        "model=svc()          # build the model using training data\n",
        "model.fit(X_train,Y_train)"
      ],
      "execution_count": 12,
      "outputs": [
        {
          "output_type": "execute_result",
          "data": {
            "text/plain": [
              "SVC(C=1.0, break_ties=False, cache_size=200, class_weight=None, coef0=0.0,\n",
              "    decision_function_shape='ovr', degree=3, gamma='scale', kernel='rbf',\n",
              "    max_iter=-1, probability=False, random_state=None, shrinking=True,\n",
              "    tol=0.001, verbose=False)"
            ]
          },
          "metadata": {
            "tags": []
          },
          "execution_count": 12
        }
      ]
    },
    {
      "cell_type": "code",
      "metadata": {
        "id": "e2qwmw9NVE1W",
        "colab_type": "code",
        "colab": {
          "base_uri": "https://localhost:8080/",
          "height": 136
        },
        "outputId": "5d5f862e-9a35-4806-8d72-c9f613432abc"
      },
      "source": [
        "# Apply the model on test set\n",
        "predicted_quality=model.predict(X_test)\n",
        "predicted_quality"
      ],
      "execution_count": 21,
      "outputs": [
        {
          "output_type": "execute_result",
          "data": {
            "text/plain": [
              "array(['Iris-versicolor', 'Iris-versicolor', 'Iris-setosa', 'Iris-setosa',\n",
              "       'Iris-setosa', 'Iris-versicolor', 'Iris-versicolor', 'Iris-setosa',\n",
              "       'Iris-versicolor', 'Iris-versicolor', 'Iris-setosa',\n",
              "       'Iris-versicolor', 'Iris-setosa', 'Iris-versicolor', 'Iris-setosa',\n",
              "       'Iris-setosa', 'Iris-versicolor', 'Iris-setosa', 'Iris-versicolor',\n",
              "       'Iris-virginica', 'Iris-versicolor', 'Iris-setosa',\n",
              "       'Iris-versicolor', 'Iris-versicolor'], dtype=object)"
            ]
          },
          "metadata": {
            "tags": []
          },
          "execution_count": 21
        }
      ]
    },
    {
      "cell_type": "code",
      "metadata": {
        "id": "rhsa7-RrWhuE",
        "colab_type": "code",
        "colab": {
          "base_uri": "https://localhost:8080/",
          "height": 68
        },
        "outputId": "5c838b8a-4d15-49ec-c865-99cb9db65ec0"
      },
      "source": [
        "# Confusion matrix\n",
        "metrics.confusion_matrix(Y_test,predicted_quality)"
      ],
      "execution_count": 29,
      "outputs": [
        {
          "output_type": "execute_result",
          "data": {
            "text/plain": [
              "array([[10,  0,  0],\n",
              "       [ 0, 11,  0],\n",
              "       [ 0,  2,  1]])"
            ]
          },
          "metadata": {
            "tags": []
          },
          "execution_count": 29
        }
      ]
    },
    {
      "cell_type": "markdown",
      "metadata": {
        "id": "V-DjtshCZPEa",
        "colab_type": "text"
      },
      "source": [
        "Accuracy = It is the ratio of correct prediction to the total number of prediction .\n",
        "      precision = (TP + TN)/(TP + FN + TN + FP)\n",
        "\n",
        "Precision = It is the ratio of correct positive predictions to the positive predictions.\n",
        "      Precision = (TP)/(TP + TN)  \n"
      ]
    },
    {
      "cell_type": "code",
      "metadata": {
        "id": "MQjlDEYSYXXT",
        "colab_type": "code",
        "colab": {
          "base_uri": "https://localhost:8080/",
          "height": 34
        },
        "outputId": "2973d77f-6670-4dd7-e2c2-3c5deb8f980b"
      },
      "source": [
        "# Finding Accuracy\n",
        "metrics.accuracy_score(Y_test,predicted_quality)"
      ],
      "execution_count": 26,
      "outputs": [
        {
          "output_type": "execute_result",
          "data": {
            "text/plain": [
              "0.9166666666666666"
            ]
          },
          "metadata": {
            "tags": []
          },
          "execution_count": 26
        }
      ]
    },
    {
      "cell_type": "code",
      "metadata": {
        "id": "ps89zLXocvl1",
        "colab_type": "code",
        "colab": {
          "base_uri": "https://localhost:8080/",
          "height": 34
        },
        "outputId": "9a03ef63-f080-4beb-b5a2-6e1c42e15dd1"
      },
      "source": [
        "# Finding Precision\n",
        "metrics.precision_score(Y_test,predicted_quality , average=\"weighted\")"
      ],
      "execution_count": 28,
      "outputs": [
        {
          "output_type": "execute_result",
          "data": {
            "text/plain": [
              "0.9294871794871794"
            ]
          },
          "metadata": {
            "tags": []
          },
          "execution_count": 28
        }
      ]
    },
    {
      "cell_type": "code",
      "metadata": {
        "id": "S8dAp3UVXJjF",
        "colab_type": "code",
        "colab": {
          "base_uri": "https://localhost:8080/",
          "height": 204
        },
        "outputId": "7d4c0487-dc24-4909-be40-9c1d2a14cf83"
      },
      "source": [
        "# Evaluate the model using other performance metrics\n",
        "a=classification_report(Y_test,predicted_quality)\n",
        "print(a)"
      ],
      "execution_count": 24,
      "outputs": [
        {
          "output_type": "stream",
          "text": [
            "                 precision    recall  f1-score   support\n",
            "\n",
            "    Iris-setosa       1.00      1.00      1.00        10\n",
            "Iris-versicolor       0.85      1.00      0.92        11\n",
            " Iris-virginica       1.00      0.33      0.50         3\n",
            "\n",
            "       accuracy                           0.92        24\n",
            "      macro avg       0.95      0.78      0.81        24\n",
            "   weighted avg       0.93      0.92      0.90        24\n",
            "\n",
            "ERROR! Session/line number was not unique in database. History logging moved to new session 60\n"
          ],
          "name": "stdout"
        }
      ]
    }
  ]
}